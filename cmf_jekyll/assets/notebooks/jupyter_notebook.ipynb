{
 "cells": [
  {
   "cell_type": "markdown",
   "id": "4d2fa92f",
   "metadata": {},
   "source": [
    "## Jupyter Notebook starten"
   ]
  },
  {
   "cell_type": "code",
   "execution_count": null,
   "id": "ad8b86d6-ce35-4975-9e87-971da445c8ed",
   "metadata": {},
   "outputs": [],
   "source": [
    "jupyter notebook"
   ]
  },
  {
   "cell_type": "markdown",
   "id": "956ef6aa",
   "metadata": {},
   "source": [
    "## Edit-Mode\n",
    "- **Auto-Completion**: irgendetwas tippen -> \\[Tab\\] -> Auswahl and Completion-Möglichkeiten\n",
    "- **Documentation**: \\[Shift+Tab\\] mit dem Cursor irgendwo in einer Funktion / Klasse (auch in den Klammern für die Argumente)\n",
    "- **Zellen ausführen**\n",
    "\t- mit \\[Cmd-Enter\\] / \\[Ctrl-Enter\\]\n",
    "\t- \\[Shift-Enter\\] -> ausführen + nächste Zelle\n",
    "- \\[Esc\\], um in den **Cell-Mode** zu wechseln\n",
    "\n",
    "## Cell-Mode\n",
    "\n",
    "- \\[Pfeiltasten\\]: zwischen den Zellen **navigieren**\n",
    "- \\[a\\] (above) \\[b\\] (below), **neue Zellen erstellen**\n",
    "- \\[dd\\] (zweimal 'd'): **Zellen löschen**\n",
    "- \\[m\\]: (Markdown) und \\[y\\] (Code): den **Zell-Typ ändern**\n",
    "- \\[alt\\]/\\[option\\] gedrückt halten und mit der Maus über den Text ziehen: **block-mark-mode** (auch nicht-offizieller Begriff)\n",
    "- \\[Enter\\]: in den **Edit Mode** der ausgewählten Zelle wechseln"
   ]
  },
  {
   "cell_type": "code",
   "execution_count": 1,
   "id": "eb490a31",
   "metadata": {},
   "outputs": [
    {
     "data": {
      "text/plain": [
       "4"
      ]
     },
     "execution_count": 1,
     "metadata": {},
     "output_type": "execute_result"
    }
   ],
   "source": [
    "# code-block\n",
    "\n",
    "2 + 2"
   ]
  },
  {
   "cell_type": "markdown",
   "id": "4392bc0c-7765-44bc-9488-afda210bfffa",
   "metadata": {},
   "source": [
    "## Shell Commands"
   ]
  },
  {
   "cell_type": "code",
   "execution_count": 2,
   "id": "14cb091a-22d2-40d1-9762-9a95593170d6",
   "metadata": {},
   "outputs": [
    {
     "name": "stdout",
     "output_type": "stream",
     "text": [
      "/Users/danielhopfner/Documents/MI-MW-Karlsruhe/Lehrveranstaltungen/202324_WiSe/cmf_2023_24/cmf_jekyll/assets/notebooks\n"
     ]
    }
   ],
   "source": [
    "!pwd"
   ]
  },
  {
   "cell_type": "code",
   "execution_count": 3,
   "id": "17293c6b-463e-41bd-877e-706d26687b60",
   "metadata": {},
   "outputs": [
    {
     "name": "stdout",
     "output_type": "stream",
     "text": [
      "4\n"
     ]
    }
   ],
   "source": [
    "!echo \"{2 + 2}\""
   ]
  }
 ],
 "metadata": {
  "kernelspec": {
   "display_name": "Python 3 (ipykernel)",
   "language": "python",
   "name": "python3"
  },
  "language_info": {
   "codemirror_mode": {
    "name": "ipython",
    "version": 3
   },
   "file_extension": ".py",
   "mimetype": "text/x-python",
   "name": "python",
   "nbconvert_exporter": "python",
   "pygments_lexer": "ipython3",
   "version": "3.11.6"
  }
 },
 "nbformat": 4,
 "nbformat_minor": 5
}
