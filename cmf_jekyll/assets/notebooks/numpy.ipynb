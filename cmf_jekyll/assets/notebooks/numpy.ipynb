{
 "cells": [
  {
   "cell_type": "markdown",
   "id": "2f9af35d-14c7-4f67-99b1-6e2d1d333ab6",
   "metadata": {},
   "source": [
    "siehe [Jupyter Notebooks | Shell Commands](/2023/10/10/jupyter_notebook.html#Shell-Commands)"
   ]
  },
  {
   "cell_type": "markdown",
   "id": "445264ac-7d69-4560-96c8-1d4c57f0c0e8",
   "metadata": {
    "jp-MarkdownHeadingCollapsed": true
   },
   "source": [
    "## Installation & Import"
   ]
  },
  {
   "cell_type": "code",
   "execution_count": 2,
   "id": "15090e83-1e92-472f-9ce8-66ce16bdc375",
   "metadata": {},
   "outputs": [],
   "source": [
    "import sys"
   ]
  },
  {
   "cell_type": "code",
   "execution_count": 3,
   "id": "8d68f911-4231-4c04-9fed-1a4a42ddf200",
   "metadata": {},
   "outputs": [
    {
     "data": {
      "text/plain": [
       "'/opt/homebrew/opt/python@3.11/bin/python3.11'"
      ]
     },
     "execution_count": 3,
     "metadata": {},
     "output_type": "execute_result"
    }
   ],
   "source": [
    "sys.executable"
   ]
  },
  {
   "cell_type": "code",
   "execution_count": 4,
   "id": "fbbeda45-8563-4e33-be5f-3adf3378d610",
   "metadata": {},
   "outputs": [
    {
     "name": "stdout",
     "output_type": "stream",
     "text": [
      "Requirement already satisfied: numpy in /opt/homebrew/lib/python3.11/site-packages (1.25.2)\n"
     ]
    }
   ],
   "source": [
    "!{sys.executable} -m pip install numpy"
   ]
  },
  {
   "cell_type": "code",
   "execution_count": 5,
   "id": "2f177081-11a3-4607-ad09-f8cd7def05af",
   "metadata": {},
   "outputs": [],
   "source": [
    "import numpy as np"
   ]
  },
  {
   "cell_type": "markdown",
   "id": "1bcdaa76-7e18-45a7-97a0-5ece16e87958",
   "metadata": {
    "jp-MarkdownHeadingCollapsed": true
   },
   "source": [
    "## NumPy-Arrays vs. Listen"
   ]
  },
  {
   "cell_type": "code",
   "execution_count": 6,
   "id": "49caa118-af84-468e-9700-3c15223ed1c3",
   "metadata": {},
   "outputs": [
    {
     "data": {
      "text/plain": [
       "[1, 2, 3, 100, 200, 300]"
      ]
     },
     "execution_count": 6,
     "metadata": {},
     "output_type": "execute_result"
    }
   ],
   "source": [
    "[1, 2, 3] + [100, 200, 300]"
   ]
  },
  {
   "cell_type": "code",
   "execution_count": 7,
   "id": "5253bad8-d106-4bf3-aff0-44a8dc725268",
   "metadata": {},
   "outputs": [
    {
     "data": {
      "text/plain": [
       "[1, 2, 3, 1, 2, 3, 1, 2, 3]"
      ]
     },
     "execution_count": 7,
     "metadata": {},
     "output_type": "execute_result"
    }
   ],
   "source": [
    "[1, 2, 3] * 3"
   ]
  },
  {
   "cell_type": "markdown",
   "id": "359d65f5-1c03-4406-9c81-a4914045cc74",
   "metadata": {
    "jp-MarkdownHeadingCollapsed": true
   },
   "source": [
    "### elementweise Operationen"
   ]
  },
  {
   "cell_type": "code",
   "execution_count": 8,
   "id": "9b549ab2-9ec7-4bda-8d46-13a19b45c4fa",
   "metadata": {},
   "outputs": [
    {
     "name": "stdout",
     "output_type": "stream",
     "text": [
      "[101 202 303]\n",
      "[ -99 -198 -297]\n",
      "[100 400 900]\n",
      "[0.01 0.01 0.01]\n",
      "[     100    40000 27000000]\n",
      "[100 100 100]\n",
      "[1 2 3]\n",
      "\n",
      "[2 4 6]\n",
      "[1.         1.41421356 1.73205081]\n",
      "[100.          14.14213562   6.6943295 ]\n",
      "\n",
      "[False False  True]\n",
      "[ True False False]\n",
      "[ True  True False]\n",
      "[False  True  True]\n",
      "[False  True False]\n",
      "[ True False  True]\n"
     ]
    }
   ],
   "source": [
    "a1 = np.array([  1,   2,   3])\n",
    "#                +    +    +\n",
    "a2 = np.array([100, 200, 300])\n",
    "\n",
    "print(a1 + a2)\n",
    "print(a1 - a2)\n",
    "print(a1 * a2)\n",
    "print(a1 / a2)\n",
    "print(a2 ** a1)\n",
    "print(a2 // a1)\n",
    "print(a1 % a2)\n",
    "\n",
    "print()\n",
    "\n",
    "print(a1 * 2)\n",
    "print(np.sqrt(a1))\n",
    "print((a2 ** (1 / a1)))\n",
    "\n",
    "print()\n",
    "\n",
    "print(a1 > 2)\n",
    "print(a1 < 2)\n",
    "print(a1 <= 2)\n",
    "print(a1 >= 2)\n",
    "print(a1 == 2)\n",
    "print(a1 != 2)"
   ]
  },
  {
   "cell_type": "markdown",
   "id": "2c7b5424-e2ee-4707-ad64-915e5a380f08",
   "metadata": {
    "jp-MarkdownHeadingCollapsed": true
   },
   "source": [
    "### Datentypen"
   ]
  },
  {
   "cell_type": "markdown",
   "id": "22ab992d-26d0-490d-8559-1455809c1240",
   "metadata": {},
   "source": [
    "bei np arrays werden alle element-typen aneinander angeglichen."
   ]
  },
  {
   "cell_type": "code",
   "execution_count": 9,
   "id": "fc33f7d7-41a3-46cd-bc29-2358c0e568ca",
   "metadata": {},
   "outputs": [
    {
     "data": {
      "text/plain": [
       "[1, 2.0, 2.5, 5]"
      ]
     },
     "execution_count": 9,
     "metadata": {},
     "output_type": "execute_result"
    }
   ],
   "source": [
    "[1, 2.0, 2.5, 5]"
   ]
  },
  {
   "cell_type": "code",
   "execution_count": 10,
   "id": "c7370b66-86b2-49b5-bd37-68bb49bfe510",
   "metadata": {},
   "outputs": [
    {
     "data": {
      "text/plain": [
       "array([1. , 2. , 2.5, 5. ])"
      ]
     },
     "execution_count": 10,
     "metadata": {},
     "output_type": "execute_result"
    }
   ],
   "source": [
    "np.array([1, 2.0, 2.5, 5])"
   ]
  },
  {
   "cell_type": "code",
   "execution_count": 11,
   "id": "c757fde9-eb2b-45f2-a510-3a1b7bfcd2db",
   "metadata": {},
   "outputs": [
    {
     "data": {
      "text/plain": [
       "array([1, 2, 3])"
      ]
     },
     "execution_count": 11,
     "metadata": {},
     "output_type": "execute_result"
    }
   ],
   "source": [
    "np.array([1.0, 2.0, 3.0], dtype=int)"
   ]
  },
  {
   "cell_type": "markdown",
   "id": "ecbed4ed-9028-4bcc-96e7-5e12ace974c5",
   "metadata": {
    "jp-MarkdownHeadingCollapsed": true
   },
   "source": [
    "### Recheneffizienz"
   ]
  },
  {
   "cell_type": "code",
   "execution_count": 12,
   "id": "33dbe23e-15ef-49ee-83d1-be9a3a05fee0",
   "metadata": {},
   "outputs": [
    {
     "name": "stdout",
     "output_type": "stream",
     "text": [
      "5.76 ns ± 0.0344 ns per loop (mean ± std. dev. of 7 runs, 100,000,000 loops each)\n"
     ]
    }
   ],
   "source": [
    "%%timeit\n",
    "2 + 2"
   ]
  },
  {
   "cell_type": "code",
   "execution_count": 13,
   "id": "575ee2ec-11a5-45a1-b5e8-b3790698507f",
   "metadata": {},
   "outputs": [
    {
     "name": "stdout",
     "output_type": "stream",
     "text": [
      "[393156, 393159, 393162, 393165, 393168, 393171, 393174, 393177, 393180, 393183, 393186, 393189, 393192, 393195, 393198, 393201, 393204, 393207, 393210, 393213]\n"
     ]
    }
   ],
   "source": [
    "l1 = []\n",
    "l2 = []\n",
    "\n",
    "for i in range(2**17):\n",
    "    l1.append(i)\n",
    "    l2.append(i * 3)\n",
    "\n",
    "print(l2[-20:])"
   ]
  },
  {
   "cell_type": "code",
   "execution_count": 17,
   "id": "6f3bd267-4b5d-4100-ad2c-983df121929e",
   "metadata": {},
   "outputs": [],
   "source": [
    "def elementwise_add_lists(l1, l2):\n",
    "\n",
    "    result = []\n",
    "\n",
    "    for el1, el2 in zip(l1, l2): # siehe Python-Auffrischung: zip\n",
    "        result.append(el1 + el2)\n",
    "\n",
    "    return result"
   ]
  },
  {
   "cell_type": "markdown",
   "id": "c1a5b141-f0cb-4e91-ab40-4515c16d7432",
   "metadata": {},
   "source": [
    "[Python-Auffrischung: `zip`](/2023/10/17/python-auffrischung.html#zip)"
   ]
  },
  {
   "cell_type": "code",
   "execution_count": 18,
   "id": "7af341aa-88fc-4176-841b-4266731007e1",
   "metadata": {},
   "outputs": [
    {
     "name": "stdout",
     "output_type": "stream",
     "text": [
      "4.64 ms ± 37 µs per loop (mean ± std. dev. of 7 runs, 100 loops each)\n"
     ]
    }
   ],
   "source": [
    "%%timeit\n",
    "elementwise_add_lists(l1, l2)"
   ]
  },
  {
   "cell_type": "code",
   "execution_count": 19,
   "id": "907e1188-b260-4d61-bf1b-7fe0211506b4",
   "metadata": {},
   "outputs": [],
   "source": [
    "a1 = np.array(l1)\n",
    "a2 = np.array(l2)"
   ]
  },
  {
   "cell_type": "code",
   "execution_count": 20,
   "id": "0a9ccd83-bc74-4215-98df-2d082a7eeceb",
   "metadata": {},
   "outputs": [
    {
     "name": "stdout",
     "output_type": "stream",
     "text": [
      "27.3 µs ± 630 ns per loop (mean ± std. dev. of 7 runs, 10,000 loops each)\n"
     ]
    }
   ],
   "source": [
    "%%timeit\n",
    "a1 + a2"
   ]
  },
  {
   "cell_type": "markdown",
   "id": "6533155e-72e3-4675-822d-78171a530bb2",
   "metadata": {
    "jp-MarkdownHeadingCollapsed": true
   },
   "source": [
    "## Arrays erstellen"
   ]
  },
  {
   "cell_type": "markdown",
   "id": "f7d335d7-1a37-41ef-84a3-93a35a264d14",
   "metadata": {
    "jp-MarkdownHeadingCollapsed": true,
    "jupyter": {
     "source_hidden": true
    }
   },
   "source": [
    "### `np.array()`"
   ]
  },
  {
   "cell_type": "code",
   "execution_count": 21,
   "id": "6d972244-d95e-48ed-8dd3-da3a39139a8d",
   "metadata": {},
   "outputs": [
    {
     "data": {
      "text/plain": [
       "array([1, 2, 3])"
      ]
     },
     "execution_count": 21,
     "metadata": {},
     "output_type": "execute_result"
    }
   ],
   "source": [
    "np.array([1, 2, 3])"
   ]
  },
  {
   "cell_type": "markdown",
   "id": "e88f4498-bcea-4367-8f79-0e702bfa4b2c",
   "metadata": {
    "jp-MarkdownHeadingCollapsed": true,
    "jupyter": {
     "source_hidden": true
    }
   },
   "source": [
    "### `np.zeros()`"
   ]
  },
  {
   "cell_type": "code",
   "execution_count": 22,
   "id": "3d32773e-8e04-4b6b-8d86-4123782389d8",
   "metadata": {},
   "outputs": [
    {
     "data": {
      "text/plain": [
       "array([0., 0., 0., 0., 0., 0., 0., 0., 0., 0.])"
      ]
     },
     "execution_count": 22,
     "metadata": {},
     "output_type": "execute_result"
    }
   ],
   "source": [
    "np.zeros(10)"
   ]
  },
  {
   "cell_type": "markdown",
   "id": "d9c91586-b80e-4ba0-9cfc-6a79e9a49c18",
   "metadata": {
    "jp-MarkdownHeadingCollapsed": true,
    "jupyter": {
     "source_hidden": true
    }
   },
   "source": [
    "### `np.ones()`"
   ]
  },
  {
   "cell_type": "code",
   "execution_count": 23,
   "id": "3ae6ef38-22c0-4d22-99cc-f47cb1617b07",
   "metadata": {},
   "outputs": [
    {
     "data": {
      "text/plain": [
       "array([1., 1., 1., 1., 1., 1., 1., 1., 1., 1.])"
      ]
     },
     "execution_count": 23,
     "metadata": {},
     "output_type": "execute_result"
    }
   ],
   "source": [
    "np.ones(10)"
   ]
  },
  {
   "cell_type": "markdown",
   "id": "415cff2d-3948-4f34-817e-31973bfba436",
   "metadata": {
    "jp-MarkdownHeadingCollapsed": true,
    "jupyter": {
     "source_hidden": true
    }
   },
   "source": [
    "### `np.empty()`"
   ]
  },
  {
   "cell_type": "code",
   "execution_count": 24,
   "id": "06e9cbc8-3658-47e4-b092-3a4d34580254",
   "metadata": {},
   "outputs": [
    {
     "data": {
      "text/plain": [
       "array([1.72723371e-077, 1.72723371e-077, 1.16599492e-321, 0.00000000e+000,\n",
       "       0.00000000e+000, 0.00000000e+000, 0.00000000e+000, 0.00000000e+000,\n",
       "       0.00000000e+000, 0.00000000e+000, 0.00000000e+000, 0.00000000e+000,\n",
       "       0.00000000e+000, 2.34339806e-314, 2.34339806e-314, 0.00000000e+000,\n",
       "       0.00000000e+000, 0.00000000e+000, 0.00000000e+000, 0.00000000e+000,\n",
       "       0.00000000e+000, 0.00000000e+000, 0.00000000e+000, 0.00000000e+000,\n",
       "       0.00000000e+000, 0.00000000e+000, 0.00000000e+000, 0.00000000e+000,\n",
       "       0.00000000e+000, 0.00000000e+000, 0.00000000e+000, 0.00000000e+000,\n",
       "       0.00000000e+000, 0.00000000e+000, 0.00000000e+000, 0.00000000e+000,\n",
       "       0.00000000e+000, 0.00000000e+000, 0.00000000e+000, 0.00000000e+000,\n",
       "       0.00000000e+000, 0.00000000e+000, 0.00000000e+000, 0.00000000e+000,\n",
       "       0.00000000e+000, 0.00000000e+000, 0.00000000e+000, 0.00000000e+000,\n",
       "       0.00000000e+000, 0.00000000e+000, 0.00000000e+000, 0.00000000e+000,\n",
       "       0.00000000e+000, 0.00000000e+000, 0.00000000e+000, 0.00000000e+000,\n",
       "       0.00000000e+000, 0.00000000e+000, 0.00000000e+000, 0.00000000e+000,\n",
       "       0.00000000e+000, 0.00000000e+000, 0.00000000e+000, 0.00000000e+000,\n",
       "       0.00000000e+000, 0.00000000e+000, 0.00000000e+000, 0.00000000e+000,\n",
       "       0.00000000e+000, 0.00000000e+000, 0.00000000e+000, 0.00000000e+000,\n",
       "       0.00000000e+000, 0.00000000e+000, 0.00000000e+000, 0.00000000e+000,\n",
       "       0.00000000e+000, 0.00000000e+000, 0.00000000e+000, 0.00000000e+000,\n",
       "       0.00000000e+000, 0.00000000e+000, 0.00000000e+000, 0.00000000e+000,\n",
       "       0.00000000e+000, 0.00000000e+000, 0.00000000e+000, 0.00000000e+000,\n",
       "       0.00000000e+000, 0.00000000e+000, 0.00000000e+000, 0.00000000e+000,\n",
       "       0.00000000e+000, 0.00000000e+000, 0.00000000e+000, 0.00000000e+000,\n",
       "                   nan,             nan, 4.24399158e-314, 0.00000000e+000])"
      ]
     },
     "execution_count": 24,
     "metadata": {},
     "output_type": "execute_result"
    }
   ],
   "source": [
    "np.empty(100)"
   ]
  },
  {
   "cell_type": "markdown",
   "id": "e0e88702-1b98-4a2c-bcad-aaea18d551a8",
   "metadata": {
    "jp-MarkdownHeadingCollapsed": true,
    "jupyter": {
     "source_hidden": true
    }
   },
   "source": [
    "### `np.arange()`"
   ]
  },
  {
   "cell_type": "code",
   "execution_count": 25,
   "id": "a0344a2d-b1c8-4d8f-88a3-0877fc8b38d6",
   "metadata": {},
   "outputs": [
    {
     "data": {
      "text/plain": [
       "array([0, 1, 2, 3, 4, 5, 6, 7, 8, 9])"
      ]
     },
     "execution_count": 25,
     "metadata": {},
     "output_type": "execute_result"
    }
   ],
   "source": [
    "np.arange(10)"
   ]
  },
  {
   "cell_type": "code",
   "execution_count": 26,
   "id": "9b8fc936-7a37-4069-a218-1e2cca4535bb",
   "metadata": {},
   "outputs": [
    {
     "data": {
      "text/plain": [
       "array([3, 4, 5, 6, 7, 8, 9])"
      ]
     },
     "execution_count": 26,
     "metadata": {},
     "output_type": "execute_result"
    }
   ],
   "source": [
    "np.arange(3, 10)"
   ]
  },
  {
   "cell_type": "code",
   "execution_count": 27,
   "id": "2fb114bd-b334-4f2f-8870-051a8c5d6c63",
   "metadata": {},
   "outputs": [
    {
     "data": {
      "text/plain": [
       "array([3, 5, 7, 9])"
      ]
     },
     "execution_count": 27,
     "metadata": {},
     "output_type": "execute_result"
    }
   ],
   "source": [
    "np.arange(3, 10, 2)"
   ]
  },
  {
   "cell_type": "code",
   "execution_count": 28,
   "id": "d616581f-0ab3-43d7-b3dd-a51c15bf55bd",
   "metadata": {},
   "outputs": [
    {
     "data": {
      "text/plain": [
       "array([3. , 3.2, 3.4, 3.6, 3.8, 4. , 4.2, 4.4, 4.6, 4.8, 5. , 5.2, 5.4,\n",
       "       5.6, 5.8, 6. , 6.2, 6.4, 6.6, 6.8, 7. , 7.2, 7.4, 7.6, 7.8, 8. ,\n",
       "       8.2, 8.4, 8.6, 8.8, 9. , 9.2, 9.4, 9.6, 9.8])"
      ]
     },
     "execution_count": 28,
     "metadata": {},
     "output_type": "execute_result"
    }
   ],
   "source": [
    "np.arange(3, 10, 0.2)"
   ]
  },
  {
   "cell_type": "markdown",
   "id": "adab0ff8-d969-4757-b68f-23396da10a47",
   "metadata": {
    "jp-MarkdownHeadingCollapsed": true,
    "jupyter": {
     "source_hidden": true
    }
   },
   "source": [
    "### `np.linspace()`"
   ]
  },
  {
   "cell_type": "code",
   "execution_count": 29,
   "id": "92e0db0d-c5f9-4ccc-8eca-5edf8b591c5e",
   "metadata": {},
   "outputs": [
    {
     "data": {
      "text/plain": [
       "array([0.   , 1.125, 2.25 , 3.375, 4.5  , 5.625, 6.75 , 7.875, 9.   ])"
      ]
     },
     "execution_count": 29,
     "metadata": {},
     "output_type": "execute_result"
    }
   ],
   "source": [
    "np.linspace(0, 9, 9)"
   ]
  },
  {
   "cell_type": "markdown",
   "id": "683ee88a-fc8a-40cf-a5cc-b0aa275aed21",
   "metadata": {
    "jp-MarkdownHeadingCollapsed": true,
    "jupyter": {
     "source_hidden": true
    }
   },
   "source": [
    "### `np.geomspace()`"
   ]
  },
  {
   "cell_type": "code",
   "execution_count": 30,
   "id": "65811a79-5d36-428b-a264-0da9e985bc1e",
   "metadata": {},
   "outputs": [
    {
     "data": {
      "text/plain": [
       "array([ 1.        ,  1.29154967,  1.66810054,  2.15443469,  2.7825594 ,\n",
       "        3.59381366,  4.64158883,  5.9948425 ,  7.74263683, 10.        ])"
      ]
     },
     "execution_count": 30,
     "metadata": {},
     "output_type": "execute_result"
    }
   ],
   "source": [
    "np.geomspace(1, 10, 10)"
   ]
  },
  {
   "cell_type": "markdown",
   "id": "f879befd-fb3d-4161-a14f-59dbf536b199",
   "metadata": {
    "jp-MarkdownHeadingCollapsed": true
   },
   "source": [
    "## Multidimensionale Arrays"
   ]
  },
  {
   "cell_type": "code",
   "execution_count": 31,
   "id": "cea63766-2ccc-4b4a-a18d-bb7455b5505e",
   "metadata": {},
   "outputs": [
    {
     "data": {
      "text/plain": [
       "array([[ 1.,  2.,  3.,  4.,  5.],\n",
       "       [ 6.,  7.,  8.,  9., 10.],\n",
       "       [11., 12., 13., 14., 15.]])"
      ]
     },
     "execution_count": 31,
     "metadata": {},
     "output_type": "execute_result"
    }
   ],
   "source": [
    "np.reshape(np.linspace(1, 15, 15), (3, 5))"
   ]
  },
  {
   "cell_type": "markdown",
   "id": "c21e6a84-e7f4-408c-9833-b985ab229b41",
   "metadata": {
    "jp-MarkdownHeadingCollapsed": true
   },
   "source": [
    "## shapes"
   ]
  },
  {
   "cell_type": "markdown",
   "id": "6603a5bb-0261-4d53-9296-51ea19ba911f",
   "metadata": {},
   "source": [
    "Shapes werden in NumPy immer als Tuple angegeben, wobei die Elemente jeweils die Größe der Dimension angibt."
   ]
  },
  {
   "cell_type": "code",
   "execution_count": 32,
   "id": "c54d893d-b095-4d3a-b5b1-e8943b9e2a1f",
   "metadata": {},
   "outputs": [
    {
     "data": {
      "text/plain": [
       "(2, 3)"
      ]
     },
     "execution_count": 32,
     "metadata": {},
     "output_type": "execute_result"
    }
   ],
   "source": [
    "np.array([[1, 2, 3], \n",
    "          [3, 4, 5]]).shape"
   ]
  },
  {
   "cell_type": "code",
   "execution_count": 33,
   "id": "46cf04db-27da-41f5-94bd-eb5fb9e1671f",
   "metadata": {},
   "outputs": [
    {
     "name": "stdout",
     "output_type": "stream",
     "text": [
      "[[[ 1.  2.]\n",
      "  [ 3.  4.]\n",
      "  [ 5.  6.]\n",
      "  [ 7.  8.]\n",
      "  [ 9. 10.]]\n",
      "\n",
      " [[11. 12.]\n",
      "  [13. 14.]\n",
      "  [15. 16.]\n",
      "  [17. 18.]\n",
      "  [19. 20.]]\n",
      "\n",
      " [[21. 22.]\n",
      "  [23. 24.]\n",
      "  [25. 26.]\n",
      "  [27. 28.]\n",
      "  [29. 30.]]]\n",
      "(3, 5, 2)\n"
     ]
    }
   ],
   "source": [
    "a = np.reshape(np.linspace(1, 30, 30), (3, 5, 2))\n",
    "\n",
    "print(a)\n",
    "\n",
    "print(a.shape)"
   ]
  },
  {
   "cell_type": "markdown",
   "id": "8193b3e3-c774-477a-946a-dc6fc04a1919",
   "metadata": {
    "jp-MarkdownHeadingCollapsed": true
   },
   "source": [
    "## Auf Elemente zugreifen"
   ]
  },
  {
   "cell_type": "markdown",
   "id": "b4f7a8cd-1f12-48cb-bc4c-7039fdc84920",
   "metadata": {
    "jupyter": {
     "source_hidden": true
    }
   },
   "source": [
    "### 1D\n",
    "\n",
    "siehe [Python Auffrischung: Indizieren](/2023/10/17/python-auffrischung.html#Listen-Indizierung-und--Slicing:)"
   ]
  },
  {
   "cell_type": "markdown",
   "id": "93cfe8a8-de1f-4f13-abda-176306ab8900",
   "metadata": {
    "jp-MarkdownHeadingCollapsed": true,
    "jupyter": {
     "source_hidden": true
    }
   },
   "source": [
    "### m-D"
   ]
  },
  {
   "cell_type": "code",
   "execution_count": 34,
   "id": "cc79f3ef-d827-4edb-9dc5-5ff8ba133369",
   "metadata": {},
   "outputs": [
    {
     "name": "stdout",
     "output_type": "stream",
     "text": [
      "[[[ 1.  2.]\n",
      "  [ 3.  4.]\n",
      "  [ 5.  6.]\n",
      "  [ 7.  8.]\n",
      "  [ 9. 10.]]\n",
      "\n",
      " [[11. 12.]\n",
      "  [13. 14.]\n",
      "  [15. 16.]\n",
      "  [17. 18.]\n",
      "  [19. 20.]]\n",
      "\n",
      " [[21. 22.]\n",
      "  [23. 24.]\n",
      "  [25. 26.]\n",
      "  [27. 28.]\n",
      "  [29. 30.]]] \n",
      "\n",
      "[[11. 12.]\n",
      " [13. 14.]\n",
      " [15. 16.]\n",
      " [17. 18.]\n",
      " [19. 20.]] \n",
      "\n",
      "[15. 16.] \n",
      "\n",
      "16.0 \n",
      "\n"
     ]
    }
   ],
   "source": [
    "print(a, '\\n')\n",
    "\n",
    "print(a[1], '\\n')\n",
    "\n",
    "print(a[1][2], '\\n')\n",
    "print(a[1][2][1], '\\n')"
   ]
  },
  {
   "cell_type": "code",
   "execution_count": 35,
   "id": "6713efff-ffc8-4d24-bb11-f27f4c15352e",
   "metadata": {},
   "outputs": [
    {
     "name": "stdout",
     "output_type": "stream",
     "text": [
      "[[[ 1.  2.  3.]\n",
      "  [ 4.  5.  6.]\n",
      "  [ 7.  8.  9.]\n",
      "  [10. 11. 12.]\n",
      "  [13. 14. 15.]]\n",
      "\n",
      " [[16. 17. 18.]\n",
      "  [19. 20. 21.]\n",
      "  [22. 23. 24.]\n",
      "  [25. 26. 27.]\n",
      "  [28. 29. 30.]]\n",
      "\n",
      " [[31. 32. 33.]\n",
      "  [34. 35. 36.]\n",
      "  [37. 38. 39.]\n",
      "  [40. 41. 42.]\n",
      "  [43. 44. 45.]]] \n",
      "\n",
      "[[16. 17. 18.]\n",
      " [19. 20. 21.]\n",
      " [22. 23. 24.]\n",
      " [25. 26. 27.]\n",
      " [28. 29. 30.]] \n",
      "\n",
      "[22. 23. 24.] \n",
      "\n",
      "23.0 \n",
      "\n",
      "[22. 23.] \n",
      "\n",
      "[[[22. 23.]\n",
      "  [25. 26.]]\n",
      "\n",
      " [[37. 38.]\n",
      "  [40. 41.]]] \n",
      "\n"
     ]
    }
   ],
   "source": [
    "a = np.reshape(np.linspace(1, 45, 45), (3, 5, 3))\n",
    "\n",
    "print(a, '\\n')\n",
    "\n",
    "print(a[1], '\\n')\n",
    "\n",
    "print(a[1, 2], '\\n')\n",
    "print(a[1, 2, 1], '\\n')\n",
    "\n",
    "print(a[1, 2, 0:2], '\\n')\n",
    "\n",
    "print(a[1:3, 2:4, 0:2], '\\n')"
   ]
  },
  {
   "cell_type": "markdown",
   "id": "1203c597-ed77-4255-8af7-cb487c611190",
   "metadata": {
    "jp-MarkdownHeadingCollapsed": true,
    "jupyter": {
     "source_hidden": true
    }
   },
   "source": [
    "### `np.newaxis`"
   ]
  },
  {
   "cell_type": "code",
   "execution_count": 36,
   "id": "3f2a3326-c9cb-4ba9-b159-7e09bc93041f",
   "metadata": {},
   "outputs": [
    {
     "name": "stdout",
     "output_type": "stream",
     "text": [
      "[[100 200 300]\n",
      " [200 400 600]\n",
      " [300 600 900]]\n"
     ]
    }
   ],
   "source": [
    "a1 = np.array([1, 2, 3])\n",
    "a2 = a1 * 100\n",
    "\n",
    "print(a1[:, np.newaxis] * a2)"
   ]
  },
  {
   "cell_type": "markdown",
   "id": "9e89be86-6a12-4d76-b065-f555d371f3b8",
   "metadata": {
    "jp-MarkdownHeadingCollapsed": true,
    "jupyter": {
     "source_hidden": true
    }
   },
   "source": [
    "### egal wie viele Dimensionen: boolsche Indizes"
   ]
  },
  {
   "cell_type": "code",
   "execution_count": 37,
   "id": "36bb90b9-a8dd-4f7b-948b-228bedbb7561",
   "metadata": {},
   "outputs": [
    {
     "name": "stdout",
     "output_type": "stream",
     "text": [
      "[False False  True]\n",
      "[3]\n",
      "[[100 200 300]\n",
      " [200 400 600]\n",
      " [300 600 900]]\n",
      "[[False False False]\n",
      " [False  True  True]\n",
      " [False  True  True]]\n",
      "[400 600 600 900]\n"
     ]
    }
   ],
   "source": [
    "b_i = a1 > 2 # bool index\n",
    "\n",
    "print(b_i)\n",
    "\n",
    "print(a1[b_i])\n",
    "\n",
    "md_a = a1[:, np.newaxis] * a2\n",
    "\n",
    "print(md_a)\n",
    "\n",
    "print(md_a > 300)\n",
    "\n",
    "print(md_a[md_a > 300])"
   ]
  }
 ],
 "metadata": {
  "kernelspec": {
   "display_name": "Python 3 (ipykernel)",
   "language": "python",
   "name": "python3"
  },
  "language_info": {
   "codemirror_mode": {
    "name": "ipython",
    "version": 3
   },
   "file_extension": ".py",
   "mimetype": "text/x-python",
   "name": "python",
   "nbconvert_exporter": "python",
   "pygments_lexer": "ipython3",
   "version": "3.11.6"
  }
 },
 "nbformat": 4,
 "nbformat_minor": 5
}
