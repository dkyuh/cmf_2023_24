{
 "cells": [
  {
   "cell_type": "code",
   "execution_count": 68,
   "id": "3659d49f-83a7-4cb4-845b-26cf4299f7cc",
   "metadata": {},
   "outputs": [],
   "source": [
    "import numpy as np"
   ]
  },
  {
   "cell_type": "markdown",
   "id": "6c6ff659-e54d-4725-81e9-e540e74feb6c",
   "metadata": {},
   "source": [
    "# Komplexe Zahlen"
   ]
  },
  {
   "cell_type": "markdown",
   "id": "08813e21-b99b-41b2-ad12-eb343748ff78",
   "metadata": {},
   "source": [
    "Komplexe Zahlen werden definiert als die Summe einer reellen Zahl $a$ und dem Produkt einer anderen reellen Zahl $b$ mit der imaginären Zahl/Einheit $i$.\n",
    "\n",
    "$$\n",
    "\\begin{align}\n",
    "c := a + b \\cdot i\\\\\n",
    "a, b \\in \\mathbb{R}; \\ c \\in \\mathbb{C}\n",
    "\\end{align}\n",
    "$$\n",
    "\n",
    "**Beispiele:**\n",
    "- $1 + 3i$\n",
    "- $-1 -i$\n",
    "- $i$\n",
    "- $3 + 0i$ ($= 3$)"
   ]
  },
  {
   "cell_type": "markdown",
   "id": "861cc05b-aaf4-4c53-9588-a5da733675dc",
   "metadata": {},
   "source": [
    "## Die imaginäre Einheit $i$\n",
    "\n",
    "Das Konzept der imaginären Einheit $i$ wurde ursprünglich eingeführt, um folgende Gleichung zu lösen: $$x^2 + 1 = 0$$\n",
    "\n",
    "Gleichungsumformumg (nach $x$ auflösen):\n",
    "$$\n",
    "\\begin{align}\n",
    "x^2 + 1 &= 0 & | & - 1\\\\\n",
    "x^2 &= -1 & | & \\sqrt{} \\\\\n",
    "x &= \\pm \\sqrt{-1}\n",
    "\\end{align}\n",
    "$$"
   ]
  },
  {
   "cell_type": "markdown",
   "id": "3edc124c-dbcd-45c2-8dcf-96b49eefd6a5",
   "metadata": {},
   "source": [
    "---\n",
    "\n",
    "Diese Gleichung hat keine reellen Lösungen, da das Quadrat einer reellen Zahl immer positiv ist.\n",
    "\n",
    "Wenn wir jedoch eine neue Zahl $i$ so definieren, dass $i^2 = -1$ ist, dann können wir Lösungen für diese Gleichung in Form von komplexen Zahlen finden: $x = \\pm i$.\n",
    "\n",
    "$i$ ist also die imaginäre Einheit, definiert als $$i^2 = -1$$ oder $$i = \\sqrt{-1}$$"
   ]
  },
  {
   "cell_type": "markdown",
   "id": "8add8755-f229-4254-8347-fb1b014a9b99",
   "metadata": {},
   "source": [
    "## Reelle Zahlenachse"
   ]
  },
  {
   "cell_type": "code",
   "execution_count": 51,
   "id": "39e71cfb-c414-40bd-b0c2-7392f6b36be8",
   "metadata": {
    "jupyter": {
     "source_hidden": true
    }
   },
   "outputs": [
    {
     "data": {
      "image/png": "[encoded data removed]",
      "text/plain": [
       "<Figure size 1000x200 with 1 Axes>"
      ]
     },
     "metadata": {},
     "output_type": "display_data"
    }
   ],
   "source": [
    "import numpy as np\n",
    "import matplotlib.pyplot as plt\n",
    "\n",
    "# create a figure and a signle subplot\n",
    "fig, ax = plt.subplots(figsize=(10, 2))\n",
    "\n",
    "# set the range of the number line\n",
    "ax.set_xlim(-5.25, 5.5)\n",
    "ax.set_ylim(-1, 1)\n",
    "\n",
    "# hide the axes\n",
    "ax.axis('off')\n",
    "\n",
    "# draw a line for the number line\n",
    "ax.plot([-5.25, 5.25], [0, 0], 'k-', lw=1)\n",
    "\n",
    "# draw ticks and labels for integers from -5 to 5\n",
    "for i in range(-5, 6):\n",
    "    ax.plot([i, i], [-0.1, 0.1], 'k-', lw=1)\n",
    "    ax.text(i, -0.3, str(i), ha='center', va='center')\n",
    "\n",
    "# add an arrow to indicate the positive direction\n",
    "ax.annotate('', xy=(5.5, 0), xytext=(5.25, 0),\n",
    "            arrowprops=dict(arrowstyle=\"-|>,head_length=0.5,head_width=0.3\",\n",
    "                            lw=1))\n",
    "\n",
    "plt.show()"
   ]
  },
  {
   "cell_type": "markdown",
   "id": "54a53cfa-945f-4930-b45e-fc52e6efaae0",
   "metadata": {},
   "source": [
    "## Komplexe Zahlenebene"
   ]
  },
  {
   "cell_type": "code",
   "execution_count": 61,
   "id": "52147cfe-87c9-44f2-93a9-a02efeb31852",
   "metadata": {
    "jupyter": {
     "source_hidden": true
    }
   },
   "outputs": [
    {
     "data": {
      "image/png": "[encoded data removed]",
      "text/plain": [
       "<Figure size 1000x1000 with 1 Axes>"
      ]
     },
     "metadata": {},
     "output_type": "display_data"
    }
   ],
   "source": [
    "import numpy as np\n",
    "import matplotlib.pyplot as plt\n",
    "\n",
    "# create a figure and a signle subplot\n",
    "fig, ax = plt.subplots(figsize=(10, 10))\n",
    "\n",
    "# set the range of the number line\n",
    "ax.set_xlim(-5.25, 5.5)\n",
    "ax.set_ylim(-5.25, 5.5)\n",
    "\n",
    "# hide the axes\n",
    "ax.axis('off')\n",
    "\n",
    "\n",
    "# -------------------------------------------------------\n",
    "# draw a horizontal line for the real number line\n",
    "ax.plot([-5.25, 5.25], [0, 0], 'k-', lw=1)\n",
    "\n",
    "# draw ticks and labels for integers from -5 to 5\n",
    "for i in range(-5, 6):\n",
    "    ax.plot([i, i], [-0.1, 0.1], 'k-', lw=1)\n",
    "    if i != 0:\n",
    "        ax.text(i, -0.3, str(i), ha='center', va='center')\n",
    "    else:\n",
    "        ax.text(i + 0.15, -0.3, str(i), ha='center', va='center')\n",
    "\n",
    "# add an arrow to indicate the positive direction\n",
    "ax.annotate('', xy=(5.5, 0), xytext=(5.25, 0),\n",
    "            arrowprops=dict(arrowstyle=\"-|>,head_length=0.5,head_width=0.3\",\n",
    "                            lw=1))\n",
    "\n",
    "# -------------------------------------------------------\n",
    "# draw a vertical line for the imaginary number line\n",
    "ax.plot([0, 0], [-5.25, 5.25], 'k-', lw=1)\n",
    "\n",
    "# draw ticks and labels for integers from -5 to 5\n",
    "for i in range(-5, 6):\n",
    "    ax.plot([-0.1, 0.1], [i, i], 'k-', lw=1)\n",
    "    if i != 0: # avoid labelling the origin twice\n",
    "        ax.text(-0.3, i, f'{i}i', ha='center', va='center')\n",
    "\n",
    "# add an arrow to indicate the positive direction\n",
    "ax.annotate('', xy=(0, 5.5), xytext=(0, 5.25),\n",
    "            arrowprops=dict(arrowstyle=\"-|>,head_length=0.5,head_width=0.3\",\n",
    "                            lw=1))\n",
    "\n",
    "plt.show()"
   ]
  },
  {
   "cell_type": "markdown",
   "id": "d8f57303-1cca-4215-8e67-2a77c411385b",
   "metadata": {},
   "source": [
    "## Komplexe Zahlen in Python"
   ]
  },
  {
   "cell_type": "code",
   "execution_count": 87,
   "id": "989fd4d0-664a-4375-ba62-5680a020da0a",
   "metadata": {},
   "outputs": [
    {
     "name": "stdout",
     "output_type": "stream",
     "text": [
      "Typ:  <class 'complex'>\n",
      "Zahl:  (2+1j)\n",
      "Realer und imaginärer Anteil:  2.0 , 1.0\n"
     ]
    }
   ],
   "source": [
    "c = 2 + 1j\n",
    "\n",
    "print('Typ: ', type(c))\n",
    "print('Zahl: ', c)\n",
    "print('Realer und imaginärer Anteil: ', c.real, ',', c.imag)"
   ]
  },
  {
   "cell_type": "markdown",
   "id": "9106e1b4-bde0-46fc-9754-7e9e4d87564d",
   "metadata": {},
   "source": [
    "## Operationen mit komplexen Zahlen"
   ]
  },
  {
   "cell_type": "markdown",
   "id": "ac3a1756-02c1-456d-b0b5-4700ce2e3b99",
   "metadata": {},
   "source": [
    "### Addition\n",
    "\n",
    "Gegeben sind zwei komplexe Zahlen:\n",
    "- $z_1 = a + bi$ und\n",
    "- $z_2 = c + di$\n",
    "Die Summe ist definiert als: $$z_1 + z_2 = (a + c) + (b + d) i$$\n",
    "\n",
    "Beispiel: $$(3 + 2i) + (0 - 3i) = (3 + 0) + (2 - 3) i = 3 - i$$"
   ]
  },
  {
   "cell_type": "code",
   "execution_count": 66,
   "id": "ebae17ca-95f2-427f-b7a1-b7499a019ad8",
   "metadata": {},
   "outputs": [
    {
     "data": {
      "text/plain": [
       "(3-1j)"
      ]
     },
     "execution_count": 66,
     "metadata": {},
     "output_type": "execute_result"
    }
   ],
   "source": [
    "z_1 = 3 + 2j\n",
    "z_2 = 0 - 3j\n",
    "\n",
    "z_1 + z_2"
   ]
  },
  {
   "cell_type": "markdown",
   "id": "1ad10c11-18ba-446c-a5d1-7832d723c4db",
   "metadata": {},
   "source": [
    "### Multiplikation\n",
    "\n",
    "Gegeben sind zwei komplexe Zahlen:\n",
    "- $z_1 = a + bi$ und\n",
    "- $z_2 = c + di$\n",
    "Die Multiplikation ist definiert als: $$z_1 \\cdot z_2 = (a + b i)(c + di) = ac + ad i + bc i + bd i^2$$ Erinnert euch daran, dass $i^2 = -1$, sodass wir weiter vereinfachen können:$$z_1 \\cdot z_2 = (ac - bd) + (ad + bc) i$$"
   ]
  },
  {
   "cell_type": "code",
   "execution_count": 67,
   "id": "35524a80-2a15-48fe-9e8d-a2da77b026ef",
   "metadata": {},
   "outputs": [
    {
     "data": {
      "text/plain": [
       "(-1+7j)"
      ]
     },
     "execution_count": 67,
     "metadata": {},
     "output_type": "execute_result"
    }
   ],
   "source": [
    "z_1 = -1 + 2j\n",
    "z_2 = 3 - 1j\n",
    "\n",
    "z_1 * z_2"
   ]
  },
  {
   "cell_type": "markdown",
   "id": "25109467-609c-4e80-ab46-52f2eae51a16",
   "metadata": {},
   "source": [
    "$$z_1 \\cdot z_2 = (-1 + 2i) \\cdot (3 - i) = (-3 - (-2)) + (1 + 6) i = -1 + 7i$$"
   ]
  },
  {
   "cell_type": "markdown",
   "id": "f250df39-27e2-4251-9ae6-d3ebd89f3892",
   "metadata": {},
   "source": [
    "### Nachtrag: Division\n",
    "\n",
    "Gegeben sind zwei komplexe Zahlen:\n",
    "- $z_1 = a + bi$ und\n",
    "- $z_2 = c + di$\n",
    "Die Division ist definiert als: $$\\dfrac{z_1}{z_2} = \\dfrac{(a + b i)}{(c + di)}$$ Jetzt ein Trick, indem wir Zähler und Nenner mit dem Konjugat des Nenners multiplizieren: $$\\begin{align} \\dfrac{(a + b i) \\cdot (c - di)}{(c + di) \\cdot (c - di)} =\\\\ \\dfrac{(ac + bd) + (-ad + bc)i}{(c^2 - (-d \\cdot d)) + (-cd + cd) i} =\\\\ \\dfrac{(ac + bd) + (bc - ad)i}{(c^2 + d^2)} = \\\\ \\left( \\dfrac{ac + bd}{c^2 + d^2} \\right) + \\left( \\dfrac{bc - ad}{c^2 + d^2} \\right) i \\end{align}$$"
   ]
  },
  {
   "cell_type": "markdown",
   "id": "a5fa0b28-bf01-4e6d-bc61-da6a9aa27d15",
   "metadata": {},
   "source": [
    "### Konjugat\n",
    "\n",
    "$z = a + bi$\n",
    "\n",
    "$\\overline{z}  = a - bi$"
   ]
  },
  {
   "cell_type": "code",
   "execution_count": 71,
   "id": "deb588fd-0374-4994-854a-b66b82c02e51",
   "metadata": {},
   "outputs": [
    {
     "name": "stdout",
     "output_type": "stream",
     "text": [
      "(-1+2j)\n",
      "(-1-2j)\n"
     ]
    }
   ],
   "source": [
    "print(z_1)\n",
    "\n",
    "print(np.conjugate(z_1))"
   ]
  },
  {
   "cell_type": "markdown",
   "id": "22479d8f-ddaf-46c3-b436-9a062b8a9cbc",
   "metadata": {},
   "source": [
    "### Inverse\n",
    "\n",
    "$z_{\\text{inv}} = \\dfrac{1}{z}$\n",
    "\n",
    "Mit der Eigenschaft:\n",
    "\n",
    "$z_{\\text{inv}} \\cdot z = 1$\n",
    "\n",
    "#### in der komplexen Zahlenebene ..."
   ]
  },
  {
   "cell_type": "markdown",
   "id": "bf2b8a81-8322-4922-a16b-1d7804a3b377",
   "metadata": {},
   "source": [
    "### Absoluter Wert (= Modulus / Magnitude)\n",
    "\n",
    "Der absolute Wert (Modulus / Magnitude) einer komplexen Zahl $z = a + bi$ ist $|z| = \\sqrt{a^2 + b^2}$.\n",
    "\n",
    "Alternativ kann der absolute Wert auch durch die Quadratwurzel der Multiplikation mit ihrem Konjugat ermittelt werden: $|z| = \\sqrt{z \\cdot \\overline{z}}$. (Das Produkt ergibt immer eine reale Zahl (imaginärer Anteil = 0) und ist immer positiv.)\n"
   ]
  },
  {
   "cell_type": "code",
   "execution_count": 88,
   "id": "1c389ade-0de1-466c-b6b1-2034c0b5eacf",
   "metadata": {},
   "outputs": [
    {
     "name": "stdout",
     "output_type": "stream",
     "text": [
      "(2+1j)\n",
      "2.23606797749979\n",
      "(2.23606797749979+0j)\n",
      "2.23606797749979\n"
     ]
    }
   ],
   "source": [
    "z_1 = 2 + 1j\n",
    "\n",
    "print(z_1)\n",
    "\n",
    "print(np.sqrt(z_1.real ** 2 + z_1.imag ** 2))\n",
    "print(np.sqrt(z_1 * np.conjugate(z_1)))\n",
    "print(np.abs(z_1))"
   ]
  },
  {
   "cell_type": "markdown",
   "id": "a3420aad-4e43-4f0e-b06b-df0427043d57",
   "metadata": {},
   "source": [
    "### Winkel (Argument)\n",
    "\n"
   ]
  },
  {
   "cell_type": "markdown",
   "id": "16afe9e2-f9b0-48ef-a21a-1f05ce9a2084",
   "metadata": {},
   "source": [
    "$$\\text{atan2}(y, x) \\to \\begin{cases} \\arctan\\left(\\frac{y}{x}\\right) & \\text{for } x > 0 \\\\ \\arctan\\left(\\frac{y}{x}\\right) + \\pi & \\text{for } x < 0, y \\geq 0 \\\\ \\arctan\\left(\\frac{y}{x}\\right) - \\pi & \\text{for } x < 0, y < 0 \\\\ \\frac{\\pi}{2} & \\text{for } x = 0, y > 0 \\\\ -\\frac{\\pi}{2} & \\text{for } x = 0, y < 0 \\\\ 0 & \\text{for } x = 0, y = 0 \\end{cases}$$"
   ]
  },
  {
   "cell_type": "code",
   "execution_count": 89,
   "id": "305225cf-da3d-444c-806e-f98cbc707161",
   "metadata": {},
   "outputs": [
    {
     "name": "stdout",
     "output_type": "stream",
     "text": [
      "26.565051177077986\n",
      "26.565051177077986\n"
     ]
    }
   ],
   "source": [
    "print(np.arctan2(z_1.imag, z_1.real)/ np.pi * 180 ) \n",
    "print(np.angle(z_1)/ np.pi * 180) "
   ]
  }
 ],
 "metadata": {
  "kernelspec": {
   "display_name": "Python 3 (ipykernel)",
   "language": "python",
   "name": "python3"
  },
  "language_info": {
   "codemirror_mode": {
    "name": "ipython",
    "version": 3
   },
   "file_extension": ".py",
   "mimetype": "text/x-python",
   "name": "python",
   "nbconvert_exporter": "python",
   "pygments_lexer": "ipython3",
   "version": "3.11.6"
  }
 },
 "nbformat": 4,
 "nbformat_minor": 5
}
