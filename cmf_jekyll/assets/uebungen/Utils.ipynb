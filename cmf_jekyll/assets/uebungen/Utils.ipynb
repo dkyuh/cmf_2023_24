{
  "nbformat": 4,
  "nbformat_minor": 0,
  "metadata": {
    "colab": {
      "provenance": []
    },
    "kernelspec": {
      "name": "python3",
      "display_name": "Python 3"
    },
    "language_info": {
      "name": "python"
    }
  },
  "cells": [
    {
      "cell_type": "code",
      "source": [
        "import numpy as np\n",
        "import matplotlib.pyplot as plt\n",
        "from IPython.display import Audio"
      ],
      "metadata": {
        "id": "R0nNFagDOdJS"
      },
      "execution_count": null,
      "outputs": []
    },
    {
      "cell_type": "markdown",
      "source": [
        "# Generators"
      ],
      "metadata": {
        "id": "UfJa6lltK01I"
      }
    },
    {
      "cell_type": "markdown",
      "source": [
        "## Sine"
      ],
      "metadata": {
        "id": "PV6fM7dbK6q8"
      }
    },
    {
      "cell_type": "code",
      "source": [
        "def gen_sine(sr,length,freq,amp,phase):\n",
        "  sr_length = int(sr * length)\n",
        "  out = np.zeros(sr_length)\n",
        "\n",
        "  for i in range(sr_length):\n",
        "    out[i] = amp * np.sin( 2 * np.pi * freq * (i / sr) + phase * 2 * np.pi)\n",
        "  return out\n"
      ],
      "metadata": {
        "id": "fIIWWqdhK_ZZ"
      },
      "execution_count": null,
      "outputs": []
    },
    {
      "cell_type": "markdown",
      "source": [
        "## Cosine"
      ],
      "metadata": {
        "id": "3KZseMbnLAjJ"
      }
    },
    {
      "cell_type": "code",
      "source": [
        "def gen_cos(sr,length,freq,amp,phase):\n",
        "  sr_length = int(sr * length)\n",
        "  out = np.zeros(sr_length)\n",
        "\n",
        "  for i in range(sr_length):\n",
        "    out[i] = amp * np.cos( 2 * np.pi * freq * (i / sr) + phase * 2 * np.pi)\n",
        "  return out"
      ],
      "metadata": {
        "id": "1fPC0O2dLIbx"
      },
      "execution_count": null,
      "outputs": []
    },
    {
      "cell_type": "markdown",
      "source": [
        "# Wavetables"
      ],
      "metadata": {
        "id": "H1L4tTGnPykc"
      }
    },
    {
      "cell_type": "markdown",
      "source": [
        "## SineWaveTable"
      ],
      "metadata": {
        "id": "TsGFx-C8irUl"
      }
    },
    {
      "cell_type": "code",
      "source": [
        "def wave_sine(size):\n",
        "  out = np.zeros(size)\n",
        "  for i in range(size):\n",
        "    out[i] = np.sin(2 * np.pi * (i / size))\n",
        "  return out"
      ],
      "metadata": {
        "id": "Uq0pMS8bPx6c"
      },
      "execution_count": null,
      "outputs": []
    },
    {
      "cell_type": "markdown",
      "source": [
        "## SquareWave"
      ],
      "metadata": {
        "id": "NstCG6LliyV1"
      }
    },
    {
      "cell_type": "code",
      "source": [
        "def wave_square(size):\n",
        "  out = np.zeros(size)\n",
        "  for i in range(size):\n",
        "    if i < size //2:\n",
        "      out[i] = 1\n",
        "    else:\n",
        "      out[i] = 0\n",
        "  return out\n",
        "\n"
      ],
      "metadata": {
        "id": "u1HQYMzii1NH"
      },
      "execution_count": null,
      "outputs": []
    },
    {
      "cell_type": "markdown",
      "source": [
        "## Saw"
      ],
      "metadata": {
        "id": "cD_aCIyPj0Y3"
      }
    },
    {
      "cell_type": "code",
      "source": [
        "def wave_saw(size):\n",
        "  out = np.zeros(size)\n",
        "  for i in range(size):\n",
        "    out[i] = i / size\n",
        "  return out\n",
        "saw = wave_saw(512)\n",
        "plt.plot(saw)"
      ],
      "metadata": {
        "colab": {
          "base_uri": "https://localhost:8080/",
          "height": 447
        },
        "id": "PQIYE6_tj3_H",
        "outputId": "614fee17-4c46-484f-8a61-458f4dc3a202"
      },
      "execution_count": null,
      "outputs": [
        {
          "output_type": "execute_result",
          "data": {
            "text/plain": [
              "[<matplotlib.lines.Line2D at 0x7e7ab3a7ea40>]"
            ]
          },
          "metadata": {},
          "execution_count": 15
        },
        {
          "output_type": "display_data",
          "data": {
            "text/plain": [
              "<Figure size 640x480 with 1 Axes>"
            ],
            "image/png": "[encoded data removed]"
          },
          "metadata": {}
        }
      ]
    },
    {
      "cell_type": "markdown",
      "source": [
        "## Noise"
      ],
      "metadata": {
        "id": "0gK9QrwukSt6"
      }
    },
    {
      "cell_type": "code",
      "source": [
        "def wave_noise(size):\n",
        "  out = np.zeros(size)\n",
        "  for i in range(size):\n",
        "    out[i] = np.random.uniform(-1,1)\n",
        "\n",
        "  return out"
      ],
      "metadata": {
        "id": "ldZMdiQ9kVVr"
      },
      "execution_count": null,
      "outputs": []
    },
    {
      "cell_type": "markdown",
      "source": [
        "## Linear Interpolation"
      ],
      "metadata": {
        "id": "WXl7s1t6LJxJ"
      }
    },
    {
      "cell_type": "code",
      "source": [
        "def lin_interpol(array,sr,length_in_s,freq,amp):\n",
        "  size = len(array)\n",
        "  remainder = 0\n",
        "  phase = 0.0\n",
        "  sr_length = sr * length_in_s\n",
        "  print(sr_length)\n",
        "  out = np.zeros(sr_length)\n",
        "  for i in range(sr_length):\n",
        "    phase += float(size) / (sr / freq)\n",
        "    if phase >= size - 1:\n",
        "      phase -= size\n",
        "    remainder = phase - np.floor(phase)\n",
        "    out[i] = ((1 - remainder) * array[ int(phase)] + remainder * array[1 + int(phase)]) * amp\n",
        "  return out"
      ],
      "metadata": {
        "id": "9nvpnOgRLPZq"
      },
      "execution_count": null,
      "outputs": []
    },
    {
      "cell_type": "markdown",
      "source": [
        "## Cubic Hermite Interpolation"
      ],
      "metadata": {
        "id": "bsl4ofP7LRzG"
      }
    },
    {
      "cell_type": "code",
      "source": [
        "def cubic_hermite_interpol(array,sr,length_in_ms,freq,amp):\n",
        "  #higher \"resolution\" (gets interesting with other arrays or math functions and played back with low frequencys)\n",
        "  len_arr = len(array)\n",
        "  remainder = 0.0\n",
        "  a = 0.0\n",
        "  b = 0.0\n",
        "  c = 0.0\n",
        "  d = 0.0\n",
        "  a1 = 0.0\n",
        "  a2 = 0.0\n",
        "  a3 = 0.0\n",
        "  sampleRate = sr\n",
        "  sr_length = length_in_ms * sr\n",
        "  phase = 0.0\n",
        "  out = np.zeros(sr_length, dtype = float)\n",
        "\n",
        "  for i in range(sr_length):\n",
        "    #same as in linear interpolation\n",
        "    phase += float(len_arr)/(sampleRate/(freq))\n",
        "    if phase >= len_arr - 1:\n",
        "      phase -= len_arr\n",
        "    remainder = phase - np.floor(phase);\n",
        "    # 4 points\n",
        "    if phase==0:\n",
        "      a=array[int(len_arr - 1)]\n",
        "      b=array[int (phase)]\n",
        "      c=array[int (phase)+1]\n",
        "      d=array[int (phase)+2]\n",
        "    else:\n",
        "      a=array[int (phase)-1]\n",
        "      b=array[int (phase)]\n",
        "      c=array[(int (phase)+1)%len_arr]\n",
        "      d=array[(int (phase)+2)%len_arr]\n",
        "    #computation of cubic hermite interpolation\n",
        "    a1 = 0.5 * (c - a)\n",
        "    a2 = a - 2.5 * b + 2. * c - 0.5 * d\n",
        "    a3 = 0.5 * (d - a) + 1.5 * (b - c)\n",
        "    out[i] = float(((a3 * remainder + a2) * remainder + a1) * remainder + b) * amp\n",
        "  return out"
      ],
      "metadata": {
        "id": "wv8p8uHgLWxR"
      },
      "execution_count": null,
      "outputs": []
    },
    {
      "cell_type": "markdown",
      "source": [
        "# Frequency Mod"
      ],
      "metadata": {
        "id": "pZBtl3GIMCWC"
      }
    },
    {
      "cell_type": "code",
      "source": [],
      "metadata": {
        "id": "ueJ4u_whP4Kz"
      },
      "execution_count": null,
      "outputs": []
    },
    {
      "cell_type": "markdown",
      "source": [
        "## Linear Interpolation Freq Mod"
      ],
      "metadata": {
        "id": "agtvVQa1MOtq"
      }
    },
    {
      "cell_type": "code",
      "source": [],
      "metadata": {
        "id": "GRkgGHTCMYrp"
      },
      "execution_count": null,
      "outputs": []
    },
    {
      "cell_type": "markdown",
      "source": [
        "## Cubic Hermite Interpolation Freq Mod"
      ],
      "metadata": {
        "id": "OpYDhLmSMWnq"
      }
    },
    {
      "cell_type": "code",
      "source": [],
      "metadata": {
        "id": "GPANfYLOMeWC"
      },
      "execution_count": null,
      "outputs": []
    },
    {
      "cell_type": "markdown",
      "source": [
        "# Envelopes"
      ],
      "metadata": {
        "id": "VoaAoNpcOIPE"
      }
    },
    {
      "cell_type": "code",
      "source": [
        "def exp_env(decay_factor,start,end,length):\n",
        "  arr = np.linspace(0, 1, length)\n",
        "  decay_factor = decay_factor  # Adjust this to control the rate of decrease\n",
        "\n",
        "  # Create the custom exponential-like envelope\n",
        "  envelope = end - np.exp(-decay_factor * (arr ** 3)) * (end - start)\n",
        "  return envelope\n",
        "def exp_env_freq(decay_factor,start,end,length):\n",
        "  used_length =  length // 8\n",
        "  arr = np.linspace(0, 1, used_length)\n",
        "  decay_factor = decay_factor  # Adjust this to control the rate of decrease\n",
        "\n",
        "  # Create the custom exponential-like envelope\n",
        "  envelope = end - np.exp(-decay_factor * (arr ** 3)) * (end - start)\n",
        "  envelope2 = np.zeros(length)\n",
        "  envelope2[:] = envelope[-1]\n",
        "  envelope2[0:used_length] = envelope[:]\n",
        "  return envelope2"
      ],
      "metadata": {
        "id": "ZMOtO6f5OUnS"
      },
      "execution_count": 50,
      "outputs": []
    },
    {
      "cell_type": "markdown",
      "source": [
        "# Utils calc"
      ],
      "metadata": {
        "id": "2rtzl4KUOL1C"
      }
    },
    {
      "cell_type": "code",
      "source": [
        "# schon implementiert:\n",
        "def midi_to_freq(p):\n",
        "    return 440 * 2 ** ((p - 69) / 12)\n",
        "def freq_to_midi(f):\n",
        "    midi = 12 * np.log(f/440,2) + 69\n",
        "    return midi"
      ],
      "metadata": {
        "id": "CB4iY8J0Ob0C"
      },
      "execution_count": null,
      "outputs": []
    },
    {
      "cell_type": "markdown",
      "source": [
        "# Plotting Functions"
      ],
      "metadata": {
        "id": "djjHUpyAMrGa"
      }
    },
    {
      "cell_type": "code",
      "source": [],
      "metadata": {
        "id": "LneJxDuAMxdC"
      },
      "execution_count": null,
      "outputs": []
    }
  ]
}