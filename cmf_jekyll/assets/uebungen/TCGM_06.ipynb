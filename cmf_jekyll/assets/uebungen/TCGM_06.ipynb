{
  "nbformat": 4,
  "nbformat_minor": 0,
  "metadata": {
    "colab": {
      "provenance": []
    },
    "kernelspec": {
      "name": "python3",
      "display_name": "Python 3"
    },
    "language_info": {
      "name": "python"
    }
  },
  "cells": [
    {
      "cell_type": "code",
      "execution_count": null,
      "metadata": {
        "id": "G-JcXuMN2vfz"
      },
      "outputs": [],
      "source": [
        "import numpy as np\n",
        "import matplotlib.pyplot as plt\n",
        "import librosa as lr\n",
        "from IPython.display import Audio"
      ]
    },
    {
      "cell_type": "markdown",
      "source": [
        "## **Aufgabe 1:**\n",
        "Erstellt ein Signal, dass aus mehreren Sinustönen besteht"
      ],
      "metadata": {
        "id": "ag3btn7q3EGj"
      }
    },
    {
      "cell_type": "code",
      "source": [],
      "metadata": {
        "id": "O4to-JF73ROA"
      },
      "execution_count": null,
      "outputs": []
    },
    {
      "cell_type": "markdown",
      "source": [
        "## **Aufgabe 1.1:**\n",
        "Berechnet die DFT"
      ],
      "metadata": {
        "id": "5dkwjasN3Pip"
      }
    },
    {
      "cell_type": "markdown",
      "source": [
        "## Formel\n",
        "\n",
        "$${\\displaystyle \\sum_{n=0}^{N - 1}{x_n \\cdot e^{- 2 \\pi i k \\cdot \\frac{n}{N}}}}$$\n",
        "\n",
        "- $n$: Sample-Index\n",
        "- $N$: Anzahl der Samples im Audio-Signal\n",
        "- $x_n$: Audio-Signal\n",
        "- $k$: Frequenz-Index  $\\{ X_k \\}: X_0, X_1, \\dots, X_{N - 1}$\n",
        "\n"
      ],
      "metadata": {
        "id": "HWLkkKfmOCIx"
      }
    },
    {
      "cell_type": "code",
      "source": [],
      "metadata": {
        "id": "RWu_IuGv3fRw"
      },
      "execution_count": null,
      "outputs": []
    },
    {
      "cell_type": "markdown",
      "source": [
        "## **Aufgabe 1.2:**\n",
        "Berechnet und plottet die Magnituden"
      ],
      "metadata": {
        "id": "KNpQrtfm3bfQ"
      }
    },
    {
      "cell_type": "code",
      "source": [
        "# np.abs"
      ],
      "metadata": {
        "id": "S8u2RK4N3p7Q"
      },
      "execution_count": null,
      "outputs": []
    }
  ]
}